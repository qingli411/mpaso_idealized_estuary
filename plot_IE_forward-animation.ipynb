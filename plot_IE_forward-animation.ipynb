{
 "cells": [
  {
   "cell_type": "code",
   "execution_count": null,
   "metadata": {},
   "outputs": [],
   "source": [
    "from idealized_estuary import *"
   ]
  },
  {
   "cell_type": "code",
   "execution_count": null,
   "metadata": {},
   "outputs": [],
   "source": [
    "# casename = 'default'\n",
    "# casename = 'constant_salinity'\n",
    "casename = 'constant_salinity_no_tide'\n",
    "inputfile = os.path.join(os.environ['HOME'], 'scratch', 'mpas', 'ocean',\n",
    "                        'idealized_estuary', '0.5km', casename, 'forward',\n",
    "                        'output', 'output.0001-01-01.nc')\n",
    "mpas_data = MPASOData(filepath=inputfile, filepath_mesh=inputfile)\n",
    "print(mpas_data)"
   ]
  },
  {
   "cell_type": "code",
   "execution_count": null,
   "metadata": {},
   "outputs": [],
   "source": [
    "ntime = mpas_data.time.size\n",
    "figroot = './animation'\n",
    "os.makedirs(figroot, exist_ok=True)"
   ]
  },
  {
   "cell_type": "code",
   "execution_count": null,
   "metadata": {},
   "outputs": [],
   "source": [
    "var = 'velocityMeridional'\n",
    "label = 'v [m/s]'\n",
    "if 'no_tide' in casename:\n",
    "    levels = np.linspace(-0.15, 0.15, 61)\n",
    "else:\n",
    "    levels = np.linspace(-0.5, 0.5, 101)\n",
    "nxc = 4\n",
    "\n",
    "for tidx in np.arange(ntime):\n",
    "    time = mpas_data.time[tidx]\n",
    "    fig = plot_along_channel_overview(mpas_data, var, levels, label, time, nxc, cmap='RdBu_r')\n",
    "    figname = var+'_'+'{:06d}'.format(tidx)+'.png'\n",
    "    fig.savefig(os.path.join(figroot, figname), dpi = 300)\n",
    "    fig.clear()\n",
    "    plt.close(fig)"
   ]
  },
  {
   "cell_type": "code",
   "execution_count": null,
   "metadata": {},
   "outputs": [],
   "source": [
    "var = 'salinity'\n",
    "label = 'S [psu]'\n",
    "if 'default' in casename:\n",
    "    levels = np.linspace(0, 30, 61)\n",
    "elif 'constant_salinity' in casename:\n",
    "    levels = np.linspace(29.99, 30.01, 41)\n",
    "nxc = 4\n",
    "\n",
    "# tidx = 0\n",
    "for tidx in np.arange(ntime):\n",
    "    time = mpas_data.time[tidx]\n",
    "    fig = plot_along_channel_overview(mpas_data, var, levels, label, time, nxc)\n",
    "    figname = var+'_'+'{:06d}'.format(tidx)+'.png'\n",
    "    fig.savefig(os.path.join(figroot, figname), dpi = 300)\n",
    "    plt.close(fig)"
   ]
  },
  {
   "cell_type": "code",
   "execution_count": null,
   "metadata": {},
   "outputs": [],
   "source": [
    "var = 'ssh'\n",
    "# levels = np.linspace(-0.2, 0.2, 81)\n",
    "levels = np.linspace(-1, 1, 101)\n",
    "# levels = np.linspace(-2, 2, 201)\n",
    "\n",
    "for tidx in np.arange(ntime):\n",
    "    fig = plt.figure(figsize=[17,1.8])\n",
    "    da = mpas_data.load_variable_map('ssh', idepth=0, itime=tidx)\n",
    "    da.plot(ptype='pcolor', swap_xy=True, levels=levels, cmap='RdBu_r')\n",
    "    plt.gca().set_aspect(1)\n",
    "    plt.title(str(mpas_data.time[tidx]))\n",
    "    figname = var+'_'+'{:06d}'.format(tidx)+'.png'\n",
    "    plt.tight_layout()\n",
    "    fig.savefig(os.path.join(figroot, figname), dpi = 300)\n",
    "    fig.clear()\n",
    "    plt.close(fig)"
   ]
  },
  {
   "cell_type": "code",
   "execution_count": null,
   "metadata": {},
   "outputs": [],
   "source": []
  }
 ],
 "metadata": {
  "kernelspec": {
   "display_name": "Python 3 (ipykernel)",
   "language": "python",
   "name": "python3"
  },
  "language_info": {
   "codemirror_mode": {
    "name": "ipython",
    "version": 3
   },
   "file_extension": ".py",
   "mimetype": "text/x-python",
   "name": "python",
   "nbconvert_exporter": "python",
   "pygments_lexer": "ipython3",
   "version": "3.9.7"
  }
 },
 "nbformat": 4,
 "nbformat_minor": 4
}
