{
 "cells": [
  {
   "cell_type": "code",
   "execution_count": null,
   "metadata": {},
   "outputs": [],
   "source": [
    "from idealized_estuary import *"
   ]
  },
  {
   "cell_type": "code",
   "execution_count": null,
   "metadata": {},
   "outputs": [],
   "source": [
    "casename = 'default'\n",
    "casename = 'constant_salinity'\n",
    "casename = 'constant_salinity_no_tide'\n",
    "inputfile = os.path.join(os.environ['HOME'],\n",
    "                         'develop', 'idealized_estuary', 'test', \n",
    "                         'compass', 'ocean', 'idealized_estuary', '0.5km',\n",
    "                         casename, 'forward', 'output', 'output.0001-01-01.nc')\n",
    "mpas_data = MPASOData(filepath=inputfile, filepath_mesh=inputfile)\n",
    "print(mpas_data)"
   ]
  },
  {
   "cell_type": "code",
   "execution_count": null,
   "metadata": {},
   "outputs": [],
   "source": [
    "var = 'salinity'\n",
    "label = 'S [psu]'\n",
    "if 'default' in casename:\n",
    "    levels = np.linspace(0, 30, 61)\n",
    "elif 'constant_salinity' in casename:\n",
    "    levels = np.linspace(29.99, 30.01, 41)\n",
    "# levels = None\n",
    "# time = '2001-01-01T12:00:00'\n",
    "time = None\n",
    "nxc = 4\n",
    "fig = plot_along_channel_overview(mpas_data, var, levels, label, time, nxc)"
   ]
  },
  {
   "cell_type": "code",
   "execution_count": null,
   "metadata": {},
   "outputs": [],
   "source": [
    "var = 'temperature'\n",
    "label = 'T [degC]'\n",
    "levels = np.linspace(14, 16, 21)\n",
    "# levels = None\n",
    "# time = '2001-01-01T12:00:00'\n",
    "time = None\n",
    "nxc = 4\n",
    "fig = plot_along_channel_overview(mpas_data, var, levels, label, time, nxc)"
   ]
  },
  {
   "cell_type": "code",
   "execution_count": null,
   "metadata": {},
   "outputs": [],
   "source": [
    "var = 'velocityMeridional'\n",
    "label = 'v [m/s]'\n",
    "if 'no_tide' in casename:\n",
    "    levels = np.linspace(-0.15, 0.15, 61)\n",
    "else:\n",
    "    levels = np.linspace(-0.5, 0.5, 101)\n",
    "# time = '2001-01-01T12:00:00'\n",
    "time = None\n",
    "nxc = 4\n",
    "fig = plot_along_channel_overview(mpas_data, var, levels, label, time, nxc, cmap='RdBu_r')\n",
    "plt.figure()\n",
    "da = idealized_estuary_along_channel(mpas_data, var, time=time, nxc=nxc)\n",
    "im = da[:,1].plot(y='z')\n",
    "im = da[:,76].plot(y='z')\n",
    "im = da[:,154].plot(y='z')\n",
    "im = da[:,-2].plot(y='z')"
   ]
  },
  {
   "cell_type": "code",
   "execution_count": null,
   "metadata": {},
   "outputs": [],
   "source": [
    "var = 'velocityZonal'\n",
    "label = 'm/s'\n",
    "levels = np.linspace(-0.1, 0.1, 41)\n",
    "# time = '2001-01-01T12:00:00'\n",
    "time = None\n",
    "nxc = 4\n",
    "fig = plot_along_channel_overview(mpas_data, var, levels, label, time, nxc, cmap='RdBu_r')"
   ]
  },
  {
   "cell_type": "code",
   "execution_count": null,
   "metadata": {},
   "outputs": [],
   "source": [
    "var = 'vertDiffTopOfCell'\n",
    "label = 'm^2/s'\n",
    "levels = np.linspace(0, 2e-2, 41)\n",
    "# levels = None\n",
    "# time = '2001-01-01T12:00:00'\n",
    "time = None\n",
    "nxc = 4\n",
    "fig = plot_along_channel_overview(mpas_data, var, levels, label, time, nxc, cmap='RdBu_r')"
   ]
  },
  {
   "cell_type": "code",
   "execution_count": null,
   "metadata": {},
   "outputs": [],
   "source": [
    "fig = plt.figure(figsize=[4,36])\n",
    "da = mpas_data.load_variable_map('normalVelocity', idepth=10, itime=-1)\n",
    "levels = None\n",
    "levels = np.linspace(-0.4, 0.4, 81)\n",
    "da.plot(ptype='pcolor', swap_xy=False, cmap='RdBu_r', levels=levels)\n",
    "plt.gca().set_aspect(1)"
   ]
  },
  {
   "cell_type": "code",
   "execution_count": null,
   "metadata": {},
   "outputs": [],
   "source": [
    "fig = plt.figure(figsize=[17,1.8])\n",
    "tidx = -1\n",
    "da = mpas_data.load_variable_map('ssh', idepth=10, itime=tidx)\n",
    "levels = np.linspace(-0.5, 0.5, 101)\n",
    "da.plot(ptype='pcolor', swap_xy=True, levels=levels, cmap='RdBu_r')\n",
    "plt.gca().set_aspect(1)\n",
    "plt.title(str(mpas_data.time[tidx]))"
   ]
  },
  {
   "cell_type": "code",
   "execution_count": null,
   "metadata": {},
   "outputs": [],
   "source": []
  }
 ],
 "metadata": {
  "kernelspec": {
   "display_name": "Python 3",
   "language": "python",
   "name": "python3"
  },
  "language_info": {
   "codemirror_mode": {
    "name": "ipython",
    "version": 3
   },
   "file_extension": ".py",
   "mimetype": "text/x-python",
   "name": "python",
   "nbconvert_exporter": "python",
   "pygments_lexer": "ipython3",
   "version": "3.7.7"
  }
 },
 "nbformat": 4,
 "nbformat_minor": 4
}
