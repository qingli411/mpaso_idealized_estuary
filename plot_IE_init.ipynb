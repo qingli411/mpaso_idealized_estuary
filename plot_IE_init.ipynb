{
 "cells": [
  {
   "cell_type": "code",
   "execution_count": null,
   "metadata": {},
   "outputs": [],
   "source": [
    "from idealized_estuary import *"
   ]
  },
  {
   "cell_type": "code",
   "execution_count": null,
   "metadata": {},
   "outputs": [],
   "source": [
    "casename = 'default'\n",
    "casename = 'constant_salinity'\n",
    "casepath = os.path.join(os.environ['HOME'],\n",
    "                         'develop', 'idealized_estuary', 'test', \n",
    "                         'compass', 'ocean', 'idealized_estuary', '0.5km',\n",
    "                         casename, 'init')\n",
    "inputfile =  os.path.join(casepath, 'ocean.nc')\n",
    "forcingfile =  os.path.join(casepath, 'init_mode_forcing_data.nc')\n",
    "mpas_data = MPASOData(filepath=inputfile, filepath_mesh=inputfile)\n",
    "mpas_data_forcing = MPASOData(filepath=forcingfile, filepath_mesh=inputfile)\n",
    "print(mpas_data)\n",
    "print(mpas_data_forcing)"
   ]
  },
  {
   "cell_type": "code",
   "execution_count": null,
   "metadata": {},
   "outputs": [],
   "source": [
    "var = 'salinity'\n",
    "label = 'S [psu]'\n",
    "if 'default' in casename:\n",
    "    levels = np.linspace(0, 30, 61)\n",
    "elif 'constant_salinity' in casename:\n",
    "    levels = np.linspace(29.99, 30.01, 41)\n",
    "time = None\n",
    "nxc = 4\n",
    "fig = plot_along_channel_overview(mpas_data, var, levels, label, time, nxc)\n",
    "# figname = var+'_init.png'\n",
    "# fig.savefig(figname, dpi = 300)"
   ]
  },
  {
   "cell_type": "code",
   "execution_count": null,
   "metadata": {},
   "outputs": [],
   "source": [
    "var = 'boundaryLayerThicknessTendency'\n",
    "label = 'dh/dt [m/s]'\n",
    "levels = np.linspace(-5e-5, 5e-5, 51)\n",
    "time = None\n",
    "nxc = 4\n",
    "fig = plot_along_channel_overview(mpas_data_forcing, var, levels, label, time, nxc, cmap='RdBu_r')\n",
    "figname = var+'_init.png'\n",
    "fig.savefig(figname, dpi = 300)"
   ]
  },
  {
   "cell_type": "code",
   "execution_count": null,
   "metadata": {},
   "outputs": [],
   "source": [
    "fig = plt.figure(figsize=[18,2])\n",
    "da = mpas_data.load_variable_map('normalVelocity', idepth=0, itime=0)\n",
    "da.plot(ptype='pcolor', swap_xy=True)\n",
    "plt.gca().set_aspect(1)"
   ]
  },
  {
   "cell_type": "code",
   "execution_count": null,
   "metadata": {},
   "outputs": [],
   "source": []
  }
 ],
 "metadata": {
  "kernelspec": {
   "display_name": "Python 3",
   "language": "python",
   "name": "python3"
  },
  "language_info": {
   "codemirror_mode": {
    "name": "ipython",
    "version": 3
   },
   "file_extension": ".py",
   "mimetype": "text/x-python",
   "name": "python",
   "nbconvert_exporter": "python",
   "pygments_lexer": "ipython3",
   "version": "3.7.7"
  }
 },
 "nbformat": 4,
 "nbformat_minor": 4
}
